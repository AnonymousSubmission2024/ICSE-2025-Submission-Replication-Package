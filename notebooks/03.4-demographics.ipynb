{
 "cells": [
  {
   "cell_type": "code",
   "execution_count": 25,
   "metadata": {},
   "outputs": [],
   "source": [
    "import pandas as pd"
   ]
  },
  {
   "attachments": {},
   "cell_type": "markdown",
   "metadata": {},
   "source": [
    "### Preprocess metadata"
   ]
  },
  {
   "cell_type": "code",
   "execution_count": 41,
   "metadata": {},
   "outputs": [],
   "source": [
    "def preprocess_experiment_metadata(experiment_metadata: pd.DataFrame):\n",
    "    mapping = {\n",
    "    \"Somewhat easy\": 1,\n",
    "    \"Extremely easy\": 2,\n",
    "    \"Neither easy nor difficult\": 3,\n",
    "    \"Somewhat difficult\": 4,\n",
    "    \"Extremely difficult\": 5,\n",
    "    }\n",
    "    renames = {\n",
    "        \"name\": \"snippet\",\n",
    "        \"Perceived Difficulty\": \"perceived_difficulty\",\n",
    "        \"How many years of programming experience do you have with either C++ or Java (as chosen above) ?\": \"years_of_experience\",\n",
    "    }\n",
    "    df = experiment_metadata[list(renames.keys()) + [\"pid\", \"tid\"]].rename(\n",
    "        columns=renames\n",
    "    ).dropna()\n",
    "    df['coded_perceived_difficulty'] = df['perceived_difficulty'].map(mapping)\n",
    "    dtypes = {\n",
    "        \"pid\": \"category\",\n",
    "        \"tid\": \"category\",\n",
    "        \"perceived_difficulty\": \"category\",\n",
    "        \"snippet\": \"category\",\n",
    "        \"years_of_experience\": \"float\",\n",
    "    }\n",
    "    df.loc[df['years_of_experience'] == '6-ish?', 'years_of_experience'] = 6\n",
    "\n",
    "    df = df.query(\"snippet != 'distance'\")\n",
    "    return df.astype(dtypes).set_index(['pid', 'tid'])\n",
    "\n",
    "\n",
    "experiment_metadata = pd.read_csv(\"../data/raw/post_experiment_survey.csv\")\n",
    "df = preprocess_experiment_metadata(experiment_metadata)\n",
    "df.to_parquet(\"../data/processed/experiment_metadata.parq\")"
   ]
  },
  {
   "attachments": {},
   "cell_type": "markdown",
   "metadata": {},
   "source": [
    "### Descriptive Stats"
   ]
  },
  {
   "cell_type": "code",
   "execution_count": 42,
   "metadata": {},
   "outputs": [
    {
     "data": {
      "text/html": [
       "<div>\n",
       "<style scoped>\n",
       "    .dataframe tbody tr th:only-of-type {\n",
       "        vertical-align: middle;\n",
       "    }\n",
       "\n",
       "    .dataframe tbody tr th {\n",
       "        vertical-align: top;\n",
       "    }\n",
       "\n",
       "    .dataframe thead th {\n",
       "        text-align: right;\n",
       "    }\n",
       "</style>\n",
       "<table border=\"1\" class=\"dataframe\">\n",
       "  <thead>\n",
       "    <tr style=\"text-align: right;\">\n",
       "      <th></th>\n",
       "      <th></th>\n",
       "      <th>snippet</th>\n",
       "      <th>perceived_difficulty</th>\n",
       "      <th>years_of_experience</th>\n",
       "      <th>coded_perceived_difficulty</th>\n",
       "    </tr>\n",
       "    <tr>\n",
       "      <th>pid</th>\n",
       "      <th>tid</th>\n",
       "      <th></th>\n",
       "      <th></th>\n",
       "      <th></th>\n",
       "      <th></th>\n",
       "    </tr>\n",
       "  </thead>\n",
       "  <tbody>\n",
       "    <tr>\n",
       "      <th>p40</th>\n",
       "      <th>t1</th>\n",
       "      <td>numbers_hrn</td>\n",
       "      <td>Somewhat easy</td>\n",
       "      <td>3.0</td>\n",
       "      <td>1</td>\n",
       "    </tr>\n",
       "    <tr>\n",
       "      <th rowspan=\"3\" valign=\"top\">p100</th>\n",
       "      <th>t4</th>\n",
       "      <td>insertion_sort</td>\n",
       "      <td>Somewhat easy</td>\n",
       "      <td>2.0</td>\n",
       "      <td>1</td>\n",
       "    </tr>\n",
       "    <tr>\n",
       "      <th>t2</th>\n",
       "      <td>rectangle</td>\n",
       "      <td>Extremely easy</td>\n",
       "      <td>2.0</td>\n",
       "      <td>2</td>\n",
       "    </tr>\n",
       "    <tr>\n",
       "      <th>t3</th>\n",
       "      <td>calculation</td>\n",
       "      <td>Neither easy nor difficult</td>\n",
       "      <td>2.0</td>\n",
       "      <td>3</td>\n",
       "    </tr>\n",
       "    <tr>\n",
       "      <th>p41</th>\n",
       "      <th>t2</th>\n",
       "      <td>numbers_hrn</td>\n",
       "      <td>Somewhat easy</td>\n",
       "      <td>1.0</td>\n",
       "      <td>1</td>\n",
       "    </tr>\n",
       "  </tbody>\n",
       "</table>\n",
       "</div>"
      ],
      "text/plain": [
       "                 snippet        perceived_difficulty  years_of_experience  \\\n",
       "pid  tid                                                                    \n",
       "p40  t1      numbers_hrn               Somewhat easy                  3.0   \n",
       "p100 t4   insertion_sort               Somewhat easy                  2.0   \n",
       "     t2        rectangle              Extremely easy                  2.0   \n",
       "     t3      calculation  Neither easy nor difficult                  2.0   \n",
       "p41  t2      numbers_hrn               Somewhat easy                  1.0   \n",
       "\n",
       "          coded_perceived_difficulty  \n",
       "pid  tid                              \n",
       "p40  t1                            1  \n",
       "p100 t4                            1  \n",
       "     t2                            2  \n",
       "     t3                            3  \n",
       "p41  t2                            1  "
      ]
     },
     "execution_count": 42,
     "metadata": {},
     "output_type": "execute_result"
    }
   ],
   "source": [
    "df =  pd.read_parquet(\"../data/processed/experiment_metadata.parq\")\n",
    "df.head()"
   ]
  },
  {
   "cell_type": "code",
   "execution_count": 43,
   "metadata": {},
   "outputs": [
    {
     "data": {
      "text/plain": [
       "<seaborn.axisgrid.FacetGrid at 0x2827e9c60>"
      ]
     },
     "execution_count": 43,
     "metadata": {},
     "output_type": "execute_result"
    },
    {
     "data": {
      "image/png": "[encoded data removed]",
      "text/plain": [
       "<Figure size 500x500 with 1 Axes>"
      ]
     },
     "metadata": {},
     "output_type": "display_data"
    }
   ],
   "source": [
    "import seaborn as sns\n",
    "import matplotlib.pyplot as plt\n",
    "\n",
    "sns.displot(data=df, x='years_of_experience',)"
   ]
  },
  {
   "cell_type": "code",
   "execution_count": 44,
   "metadata": {},
   "outputs": [
    {
     "data": {
      "text/plain": [
       "<seaborn.axisgrid.FacetGrid at 0x2827e90f0>"
      ]
     },
     "execution_count": 44,
     "metadata": {},
     "output_type": "execute_result"
    },
    {
     "data": {
      "image/png": "[encoded data removed]",
      "text/plain": [
       "<Figure size 500x500 with 1 Axes>"
      ]
     },
     "metadata": {},
     "output_type": "display_data"
    }
   ],
   "source": [
    "sns.displot(data=df, x='coded_perceived_difficulty')"
   ]
  },
  {
   "cell_type": "code",
   "execution_count": 45,
   "metadata": {},
   "outputs": [
    {
     "data": {
      "text/plain": [
       "<seaborn.axisgrid.FacetGrid at 0x282a7bf70>"
      ]
     },
     "execution_count": 45,
     "metadata": {},
     "output_type": "execute_result"
    },
    {
     "data": {
      "image/png": "[encoded data removed]",
      "text/plain": [
       "<Figure size 665.5x500 with 1 Axes>"
      ]
     },
     "metadata": {},
     "output_type": "display_data"
    }
   ],
   "source": [
    "sns.displot(data=df, x='coded_perceived_difficulty', hue='snippet')"
   ]
  },
  {
   "cell_type": "code",
   "execution_count": 46,
   "metadata": {},
   "outputs": [
    {
     "data": {
      "text/plain": [
       "<seaborn.axisgrid.FacetGrid at 0x282b19270>"
      ]
     },
     "execution_count": 46,
     "metadata": {},
     "output_type": "execute_result"
    },
    {
     "data": {
      "image/png": "[encoded data removed]",
      "text/plain": [
       "<Figure size 500x500 with 1 Axes>"
      ]
     },
     "metadata": {},
     "output_type": "display_data"
    }
   ],
   "source": [
    "sns.displot(data=df, x='years_of_experience',)"
   ]
  },
  {
   "cell_type": "code",
   "execution_count": 50,
   "metadata": {},
   "outputs": [
    {
     "data": {
      "text/html": [
       "<div>\n",
       "<style scoped>\n",
       "    .dataframe tbody tr th:only-of-type {\n",
       "        vertical-align: middle;\n",
       "    }\n",
       "\n",
       "    .dataframe tbody tr th {\n",
       "        vertical-align: top;\n",
       "    }\n",
       "\n",
       "    .dataframe thead th {\n",
       "        text-align: right;\n",
       "    }\n",
       "</style>\n",
       "<table border=\"1\" class=\"dataframe\">\n",
       "  <thead>\n",
       "    <tr style=\"text-align: right;\">\n",
       "      <th></th>\n",
       "      <th>count</th>\n",
       "      <th>mean</th>\n",
       "      <th>std</th>\n",
       "      <th>min</th>\n",
       "      <th>25%</th>\n",
       "      <th>50%</th>\n",
       "      <th>75%</th>\n",
       "      <th>max</th>\n",
       "    </tr>\n",
       "    <tr>\n",
       "      <th>snippet</th>\n",
       "      <th></th>\n",
       "      <th></th>\n",
       "      <th></th>\n",
       "      <th></th>\n",
       "      <th></th>\n",
       "      <th></th>\n",
       "      <th></th>\n",
       "      <th></th>\n",
       "    </tr>\n",
       "  </thead>\n",
       "  <tbody>\n",
       "    <tr>\n",
       "      <th>calculation</th>\n",
       "      <td>19.0</td>\n",
       "      <td>1.842105</td>\n",
       "      <td>1.014515</td>\n",
       "      <td>1.0</td>\n",
       "      <td>1.0</td>\n",
       "      <td>2.0</td>\n",
       "      <td>2.0</td>\n",
       "      <td>4.0</td>\n",
       "    </tr>\n",
       "    <tr>\n",
       "      <th>graph_utils</th>\n",
       "      <td>37.0</td>\n",
       "      <td>3.756757</td>\n",
       "      <td>0.925125</td>\n",
       "      <td>1.0</td>\n",
       "      <td>3.0</td>\n",
       "      <td>4.0</td>\n",
       "      <td>4.0</td>\n",
       "      <td>5.0</td>\n",
       "    </tr>\n",
       "    <tr>\n",
       "      <th>insertion_sort</th>\n",
       "      <td>18.0</td>\n",
       "      <td>2.555556</td>\n",
       "      <td>1.542428</td>\n",
       "      <td>1.0</td>\n",
       "      <td>1.0</td>\n",
       "      <td>3.0</td>\n",
       "      <td>4.0</td>\n",
       "      <td>5.0</td>\n",
       "    </tr>\n",
       "    <tr>\n",
       "      <th>money_class</th>\n",
       "      <td>18.0</td>\n",
       "      <td>1.833333</td>\n",
       "      <td>0.383482</td>\n",
       "      <td>1.0</td>\n",
       "      <td>2.0</td>\n",
       "      <td>2.0</td>\n",
       "      <td>2.0</td>\n",
       "      <td>2.0</td>\n",
       "    </tr>\n",
       "    <tr>\n",
       "      <th>number_checker</th>\n",
       "      <td>16.0</td>\n",
       "      <td>2.062500</td>\n",
       "      <td>0.928709</td>\n",
       "      <td>1.0</td>\n",
       "      <td>2.0</td>\n",
       "      <td>2.0</td>\n",
       "      <td>2.0</td>\n",
       "      <td>5.0</td>\n",
       "    </tr>\n",
       "    <tr>\n",
       "      <th>numbers_hrd</th>\n",
       "      <td>30.0</td>\n",
       "      <td>2.366667</td>\n",
       "      <td>1.188547</td>\n",
       "      <td>1.0</td>\n",
       "      <td>1.0</td>\n",
       "      <td>2.0</td>\n",
       "      <td>3.0</td>\n",
       "      <td>4.0</td>\n",
       "    </tr>\n",
       "    <tr>\n",
       "      <th>numbers_hrn</th>\n",
       "      <td>37.0</td>\n",
       "      <td>2.459459</td>\n",
       "      <td>1.386334</td>\n",
       "      <td>1.0</td>\n",
       "      <td>1.0</td>\n",
       "      <td>3.0</td>\n",
       "      <td>4.0</td>\n",
       "      <td>5.0</td>\n",
       "    </tr>\n",
       "    <tr>\n",
       "      <th>rectangle</th>\n",
       "      <td>22.0</td>\n",
       "      <td>1.636364</td>\n",
       "      <td>0.657952</td>\n",
       "      <td>1.0</td>\n",
       "      <td>1.0</td>\n",
       "      <td>2.0</td>\n",
       "      <td>2.0</td>\n",
       "      <td>3.0</td>\n",
       "    </tr>\n",
       "  </tbody>\n",
       "</table>\n",
       "</div>"
      ],
      "text/plain": [
       "                count      mean       std  min  25%  50%  75%  max\n",
       "snippet                                                           \n",
       "calculation      19.0  1.842105  1.014515  1.0  1.0  2.0  2.0  4.0\n",
       "graph_utils      37.0  3.756757  0.925125  1.0  3.0  4.0  4.0  5.0\n",
       "insertion_sort   18.0  2.555556  1.542428  1.0  1.0  3.0  4.0  5.0\n",
       "money_class      18.0  1.833333  0.383482  1.0  2.0  2.0  2.0  2.0\n",
       "number_checker   16.0  2.062500  0.928709  1.0  2.0  2.0  2.0  5.0\n",
       "numbers_hrd      30.0  2.366667  1.188547  1.0  1.0  2.0  3.0  4.0\n",
       "numbers_hrn      37.0  2.459459  1.386334  1.0  1.0  3.0  4.0  5.0\n",
       "rectangle        22.0  1.636364  0.657952  1.0  1.0  2.0  2.0  3.0"
      ]
     },
     "execution_count": 50,
     "metadata": {},
     "output_type": "execute_result"
    }
   ],
   "source": [
    "df.groupby(['snippet'])['coded_perceived_difficulty'].describe()"
   ]
  },
  {
   "cell_type": "code",
   "execution_count": 51,
   "metadata": {},
   "outputs": [
    {
     "data": {
      "text/html": [
       "<div>\n",
       "<style scoped>\n",
       "    .dataframe tbody tr th:only-of-type {\n",
       "        vertical-align: middle;\n",
       "    }\n",
       "\n",
       "    .dataframe tbody tr th {\n",
       "        vertical-align: top;\n",
       "    }\n",
       "\n",
       "    .dataframe thead th {\n",
       "        text-align: right;\n",
       "    }\n",
       "</style>\n",
       "<table border=\"1\" class=\"dataframe\">\n",
       "  <thead>\n",
       "    <tr style=\"text-align: right;\">\n",
       "      <th></th>\n",
       "      <th></th>\n",
       "      <th>snippet</th>\n",
       "      <th>perceived_difficulty</th>\n",
       "      <th>years_of_experience</th>\n",
       "      <th>coded_perceived_difficulty</th>\n",
       "    </tr>\n",
       "    <tr>\n",
       "      <th>pid</th>\n",
       "      <th>tid</th>\n",
       "      <th></th>\n",
       "      <th></th>\n",
       "      <th></th>\n",
       "      <th></th>\n",
       "    </tr>\n",
       "  </thead>\n",
       "  <tbody>\n",
       "    <tr>\n",
       "      <th>p40</th>\n",
       "      <th>t1</th>\n",
       "      <td>numbers_hrn</td>\n",
       "      <td>Somewhat easy</td>\n",
       "      <td>3.0</td>\n",
       "      <td>1</td>\n",
       "    </tr>\n",
       "    <tr>\n",
       "      <th rowspan=\"3\" valign=\"top\">p100</th>\n",
       "      <th>t4</th>\n",
       "      <td>insertion_sort</td>\n",
       "      <td>Somewhat easy</td>\n",
       "      <td>2.0</td>\n",
       "      <td>1</td>\n",
       "    </tr>\n",
       "    <tr>\n",
       "      <th>t2</th>\n",
       "      <td>rectangle</td>\n",
       "      <td>Extremely easy</td>\n",
       "      <td>2.0</td>\n",
       "      <td>2</td>\n",
       "    </tr>\n",
       "    <tr>\n",
       "      <th>t3</th>\n",
       "      <td>calculation</td>\n",
       "      <td>Neither easy nor difficult</td>\n",
       "      <td>2.0</td>\n",
       "      <td>3</td>\n",
       "    </tr>\n",
       "    <tr>\n",
       "      <th>p41</th>\n",
       "      <th>t2</th>\n",
       "      <td>numbers_hrn</td>\n",
       "      <td>Somewhat easy</td>\n",
       "      <td>1.0</td>\n",
       "      <td>1</td>\n",
       "    </tr>\n",
       "    <tr>\n",
       "      <th>...</th>\n",
       "      <th>...</th>\n",
       "      <td>...</td>\n",
       "      <td>...</td>\n",
       "      <td>...</td>\n",
       "      <td>...</td>\n",
       "    </tr>\n",
       "    <tr>\n",
       "      <th rowspan=\"3\" valign=\"top\">p99</th>\n",
       "      <th>t1</th>\n",
       "      <td>calculation</td>\n",
       "      <td>Neither easy nor difficult</td>\n",
       "      <td>3.0</td>\n",
       "      <td>3</td>\n",
       "    </tr>\n",
       "    <tr>\n",
       "      <th>t4</th>\n",
       "      <td>insertion_sort</td>\n",
       "      <td>Somewhat difficult</td>\n",
       "      <td>3.0</td>\n",
       "      <td>4</td>\n",
       "    </tr>\n",
       "    <tr>\n",
       "      <th>t2</th>\n",
       "      <td>money_class</td>\n",
       "      <td>Extremely easy</td>\n",
       "      <td>3.0</td>\n",
       "      <td>2</td>\n",
       "    </tr>\n",
       "    <tr>\n",
       "      <th>p98</th>\n",
       "      <th>t3</th>\n",
       "      <td>number_checker</td>\n",
       "      <td>Extremely easy</td>\n",
       "      <td>2.0</td>\n",
       "      <td>2</td>\n",
       "    </tr>\n",
       "    <tr>\n",
       "      <th>p99</th>\n",
       "      <th>t3</th>\n",
       "      <td>rectangle</td>\n",
       "      <td>Somewhat easy</td>\n",
       "      <td>3.0</td>\n",
       "      <td>1</td>\n",
       "    </tr>\n",
       "  </tbody>\n",
       "</table>\n",
       "<p>197 rows × 4 columns</p>\n",
       "</div>"
      ],
      "text/plain": [
       "                 snippet        perceived_difficulty  years_of_experience  \\\n",
       "pid  tid                                                                    \n",
       "p40  t1      numbers_hrn               Somewhat easy                  3.0   \n",
       "p100 t4   insertion_sort               Somewhat easy                  2.0   \n",
       "     t2        rectangle              Extremely easy                  2.0   \n",
       "     t3      calculation  Neither easy nor difficult                  2.0   \n",
       "p41  t2      numbers_hrn               Somewhat easy                  1.0   \n",
       "...                  ...                         ...                  ...   \n",
       "p99  t1      calculation  Neither easy nor difficult                  3.0   \n",
       "     t4   insertion_sort          Somewhat difficult                  3.0   \n",
       "     t2      money_class              Extremely easy                  3.0   \n",
       "p98  t3   number_checker              Extremely easy                  2.0   \n",
       "p99  t3        rectangle               Somewhat easy                  3.0   \n",
       "\n",
       "          coded_perceived_difficulty  \n",
       "pid  tid                              \n",
       "p40  t1                            1  \n",
       "p100 t4                            1  \n",
       "     t2                            2  \n",
       "     t3                            3  \n",
       "p41  t2                            1  \n",
       "...                              ...  \n",
       "p99  t1                            3  \n",
       "     t4                            4  \n",
       "     t2                            2  \n",
       "p98  t3                            2  \n",
       "p99  t3                            1  \n",
       "\n",
       "[197 rows x 4 columns]"
      ]
     },
     "execution_count": 51,
     "metadata": {},
     "output_type": "execute_result"
    }
   ],
   "source": [
    "df"
   ]
  },
  {
   "cell_type": "code",
   "execution_count": null,
   "metadata": {},
   "outputs": [],
   "source": []
  },
  {
   "cell_type": "code",
   "execution_count": null,
   "metadata": {},
   "outputs": [],
   "source": []
  },
  {
   "cell_type": "code",
   "execution_count": null,
   "metadata": {},
   "outputs": [],
   "source": []
  },
  {
   "cell_type": "code",
   "execution_count": null,
   "metadata": {},
   "outputs": [],
   "source": []
  },
  {
   "cell_type": "code",
   "execution_count": null,
   "metadata": {},
   "outputs": [],
   "source": []
  },
  {
   "cell_type": "code",
   "execution_count": null,
   "metadata": {},
   "outputs": [],
   "source": []
  }
 ],
 "metadata": {
  "kernelspec": {
   "display_name": ".venv",
   "language": "python",
   "name": "python3"
  },
  "language_info": {
   "codemirror_mode": {
    "name": "ipython",
    "version": 3
   },
   "file_extension": ".py",
   "mimetype": "text/x-python",
   "name": "python",
   "nbconvert_exporter": "python",
   "pygments_lexer": "ipython3",
   "version": "3.10.0"
  },
  "orig_nbformat": 4
 },
 "nbformat": 4,
 "nbformat_minor": 2
}
