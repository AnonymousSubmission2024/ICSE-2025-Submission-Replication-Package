{
 "cells": [
  {
   "cell_type": "code",
   "execution_count": 1,
   "metadata": {},
   "outputs": [],
   "source": [
    "from analysis.cfg import cfg, cfg_cpp"
   ]
  },
  {
   "cell_type": "code",
   "execution_count": 2,
   "metadata": {},
   "outputs": [],
   "source": [
    "from typing import Callable, Generic, ParamSpec, TypeVar, Concatenate, cast\n",
    "from tree_sitter import Node\n",
    "import functools\n"
   ]
  },
  {
   "cell_type": "code",
   "execution_count": 3,
   "metadata": {},
   "outputs": [
    {
     "name": "stderr",
     "output_type": "stream",
     "text": [
      "/Users/devjeetroy/Research/reading-order-experiment/analysis/.venv/lib/python3.10/site-packages/tqdm/auto.py:21: TqdmWarning: IProgress not found. Please update jupyter and ipywidgets. See https://ipywidgets.readthedocs.io/en/stable/user_install.html\n",
      "  from .autonotebook import tqdm as notebook_tqdm\n",
      "2023-03-28 11:35:28.511 | DEBUG    | ts_utils.parsing:load_grammar:133 - Building language library, cache_dir=/Users/devjeetroy/.cache/tree-sitter-grammars, library_path=/Users/devjeetroy/.cache/tree-sitter-grammars/language_lib.so\n"
     ]
    }
   ],
   "source": [
    "from analysis.cfg import lens\n",
    "import ts_utils\n",
    "import pathlib\n",
    "from analysis import data\n",
    "\n",
    "snippet = pathlib.Path(\"../data/raw/snippets/graph_utils_c.cc\")\n",
    "source = data.load_file_contents(snippet)\n",
    "tree = ts_utils.parse(source, \"cpp\")\n"
   ]
  },
  {
   "cell_type": "code",
   "execution_count": 4,
   "metadata": {},
   "outputs": [],
   "source": [
    "from typing import Optional, Sequence\n",
    "\n",
    "from toolz import itertoolz\n",
    "\n",
    "BLOCK_DEFINITION_QUERIES = \"\"\"\n",
    "    (function_declarator\n",
    "        declarator: (_) @function.name) @function_declarator\n",
    "    (class_specifier\n",
    "        name: (_) @class.name) @class\n",
    "    \"\"\"\n",
    "def find_all_block_definitions(root: Node):\n",
    "    results = {}\n",
    "\n",
    "    grammar = ts_utils.load_grammar(\"cpp\")\n",
    "    query = grammar.query(\n",
    "        BLOCK_DEFINITION_QUERIES  \n",
    "    )\n",
    "    captures = query.captures(root)\n",
    "    grouped_captures = itertoolz.partition(2, captures)\n",
    "\n",
    "    for function, function_name in grouped_captures:\n",
    "        if function[1] == \"function_declarator\":\n",
    "            curr = function[0]\n",
    "            while curr.parent and curr.type != \"function_definition\":\n",
    "                curr = curr.parent\n",
    "            name = function_name[0].text.decode()\n",
    "            node = curr\n",
    "        else:\n",
    "            name = function_name[0].text.decode()\n",
    "            node = function[0]\n",
    "\n",
    "        if name in results:\n",
    "            name = f\"{name}_L{node.start_point[0]}\"\n",
    "        results[name] = node\n",
    "\n",
    "    return results\n",
    "\n",
    "\n",
    "def compute_cyclomatic_complexity(root: Node):\n",
    "    blocks = find_all_block_definitions(root)\n",
    "\n",
    "    def compute_cyclomatic_complexity_for_block(node: Node):\n",
    "        controlflow = cfg.build_cfg(cfg_cpp.visit, node)\n",
    "        reduced_controlflow = cfg.build_basic_blocks(controlflow)\n",
    "        return cfg.cyclomatic_complexity(reduced_controlflow)\n",
    "\n",
    "    return {\n",
    "        name: compute_cyclomatic_complexity_for_block(node)\n",
    "        for name, node in blocks.items()\n",
    "    }\n"
   ]
  },
  {
   "cell_type": "code",
   "execution_count": 5,
   "metadata": {},
   "outputs": [
    {
     "name": "stderr",
     "output_type": "stream",
     "text": [
      "2023-03-28 11:35:29.602 | DEBUG    | ts_utils.parsing:load_grammar:133 - Building language library, cache_dir=/Users/devjeetroy/.cache/tree-sitter-grammars, library_path=/Users/devjeetroy/.cache/tree-sitter-grammars/language_lib.so\n",
      "2023-03-28 11:35:29.606 | DEBUG    | ts_utils.parsing:load_grammar:133 - Building language library, cache_dir=/Users/devjeetroy/.cache/tree-sitter-grammars, library_path=/Users/devjeetroy/.cache/tree-sitter-grammars/language_lib.so\n",
      "2023-03-28 11:35:29.666 | DEBUG    | ts_utils.parsing:load_grammar:133 - Building language library, cache_dir=/Users/devjeetroy/.cache/tree-sitter-grammars, library_path=/Users/devjeetroy/.cache/tree-sitter-grammars/language_lib.so\n",
      "2023-03-28 11:35:29.671 | DEBUG    | ts_utils.parsing:load_grammar:133 - Building language library, cache_dir=/Users/devjeetroy/.cache/tree-sitter-grammars, library_path=/Users/devjeetroy/.cache/tree-sitter-grammars/language_lib.so\n",
      "2023-03-28 11:35:29.728 | DEBUG    | ts_utils.parsing:load_grammar:133 - Building language library, cache_dir=/Users/devjeetroy/.cache/tree-sitter-grammars, library_path=/Users/devjeetroy/.cache/tree-sitter-grammars/language_lib.so\n",
      "2023-03-28 11:35:29.732 | DEBUG    | ts_utils.parsing:load_grammar:133 - Building language library, cache_dir=/Users/devjeetroy/.cache/tree-sitter-grammars, library_path=/Users/devjeetroy/.cache/tree-sitter-grammars/language_lib.so\n",
      "2023-03-28 11:35:29.786 | DEBUG    | ts_utils.parsing:load_grammar:133 - Building language library, cache_dir=/Users/devjeetroy/.cache/tree-sitter-grammars, library_path=/Users/devjeetroy/.cache/tree-sitter-grammars/language_lib.so\n",
      "2023-03-28 11:35:29.788 | DEBUG    | ts_utils.parsing:load_grammar:133 - Building language library, cache_dir=/Users/devjeetroy/.cache/tree-sitter-grammars, library_path=/Users/devjeetroy/.cache/tree-sitter-grammars/language_lib.so\n",
      "2023-03-28 11:35:29.794 | DEBUG    | ts_utils.parsing:load_grammar:133 - Building language library, cache_dir=/Users/devjeetroy/.cache/tree-sitter-grammars, library_path=/Users/devjeetroy/.cache/tree-sitter-grammars/language_lib.so\n",
      "2023-03-28 11:35:29.796 | DEBUG    | ts_utils.parsing:load_grammar:133 - Building language library, cache_dir=/Users/devjeetroy/.cache/tree-sitter-grammars, library_path=/Users/devjeetroy/.cache/tree-sitter-grammars/language_lib.so\n",
      "2023-03-28 11:35:29.808 | DEBUG    | ts_utils.parsing:load_grammar:133 - Building language library, cache_dir=/Users/devjeetroy/.cache/tree-sitter-grammars, library_path=/Users/devjeetroy/.cache/tree-sitter-grammars/language_lib.so\n",
      "2023-03-28 11:35:29.809 | DEBUG    | ts_utils.parsing:load_grammar:133 - Building language library, cache_dir=/Users/devjeetroy/.cache/tree-sitter-grammars, library_path=/Users/devjeetroy/.cache/tree-sitter-grammars/language_lib.so\n",
      "2023-03-28 11:35:29.815 | DEBUG    | ts_utils.parsing:load_grammar:133 - Building language library, cache_dir=/Users/devjeetroy/.cache/tree-sitter-grammars, library_path=/Users/devjeetroy/.cache/tree-sitter-grammars/language_lib.so\n",
      "2023-03-28 11:35:29.816 | DEBUG    | ts_utils.parsing:load_grammar:133 - Building language library, cache_dir=/Users/devjeetroy/.cache/tree-sitter-grammars, library_path=/Users/devjeetroy/.cache/tree-sitter-grammars/language_lib.so\n",
      "2023-03-28 11:35:29.824 | DEBUG    | ts_utils.parsing:load_grammar:133 - Building language library, cache_dir=/Users/devjeetroy/.cache/tree-sitter-grammars, library_path=/Users/devjeetroy/.cache/tree-sitter-grammars/language_lib.so\n",
      "2023-03-28 11:35:29.825 | DEBUG    | ts_utils.parsing:load_grammar:133 - Building language library, cache_dir=/Users/devjeetroy/.cache/tree-sitter-grammars, library_path=/Users/devjeetroy/.cache/tree-sitter-grammars/language_lib.so\n"
     ]
    }
   ],
   "source": [
    "annotations = data.load_yaml(\"../data/raw/annotations.yaml\")\n",
    "old_snippets = {\"numbers_hrn\", \"numbers_hrd\", \"graph_utils\"}\n",
    "snippet_root = pathlib.Path(\"../data/raw/snippets\")\n",
    "scores_by_snippet = {}\n",
    "all_block_scores_by_snippet = {}\n",
    "for name, annotation in annotations.items():\n",
    "    filename = annotation[\"file\"]\n",
    "    source = data.load_file_contents(snippet_root / filename)\n",
    "    tree = ts_utils.parse(source, \"cpp\")\n",
    "    complexity_by_block = compute_cyclomatic_complexity(tree.root_node)\n",
    "    all_block_scores_by_snippet[name] = complexity_by_block\n",
    "    if name in old_snippets:\n",
    "        scores_by_snippet[name] = complexity_by_block[annotation[\"target_function\"]]\n",
    "    else:\n",
    "        scores = tuple(complexity_by_block.values())\n",
    "        scores_by_snippet[name] = sum(scores) / len(scores)\n",
    "\n"
   ]
  },
  {
   "cell_type": "code",
   "execution_count": 6,
   "metadata": {},
   "outputs": [
    {
     "name": "stderr",
     "output_type": "stream",
     "text": [
      "2023-03-28 11:35:32.668 | DEBUG    | ts_utils.parsing:load_grammar:133 - Building language library, cache_dir=/Users/devjeetroy/.cache/tree-sitter-grammars, library_path=/Users/devjeetroy/.cache/tree-sitter-grammars/language_lib.so\n",
      "2023-03-28 11:35:32.670 | DEBUG    | ts_utils.parsing:load_grammar:133 - Building language library, cache_dir=/Users/devjeetroy/.cache/tree-sitter-grammars, library_path=/Users/devjeetroy/.cache/tree-sitter-grammars/language_lib.so\n"
     ]
    }
   ],
   "source": [
    "source = data.load_file_contents(snippet_root / \"insertion-sort-with-bug.cpp\")\n",
    "tree = ts_utils.parse(source, \"cpp\")\n",
    "blocks = find_all_block_definitions(tree.root_node)"
   ]
  },
  {
   "cell_type": "code",
   "execution_count": 7,
   "metadata": {},
   "outputs": [],
   "source": [
    "cdg = cfg.build_cfg(cfg_cpp.visit, blocks[\"sort_L14\"])"
   ]
  },
  {
   "cell_type": "code",
   "execution_count": 10,
   "metadata": {},
   "outputs": [
    {
     "data": {
      "text/plain": [
       "{'numbers_hrn': 7,\n",
       " 'numbers_hrd': 9,\n",
       " 'graph_utils': 2,\n",
       " 'calculation': 1.5,\n",
       " 'insertion_sort': 3.5,\n",
       " 'money_class': 1.0,\n",
       " 'number_checker': 2.0,\n",
       " 'rectangle': 1.0}"
      ]
     },
     "execution_count": 10,
     "metadata": {},
     "output_type": "execute_result"
    }
   ],
   "source": [
    "scores_by_snippet"
   ]
  }
 ],
 "metadata": {
  "kernelspec": {
   "display_name": ".venv",
   "language": "python",
   "name": "python3"
  },
  "language_info": {
   "codemirror_mode": {
    "name": "ipython",
    "version": 3
   },
   "file_extension": ".py",
   "mimetype": "text/x-python",
   "name": "python",
   "nbconvert_exporter": "python",
   "pygments_lexer": "ipython3",
   "version": "3.10.0"
  },
  "orig_nbformat": 4
 },
 "nbformat": 4,
 "nbformat_minor": 2
}
