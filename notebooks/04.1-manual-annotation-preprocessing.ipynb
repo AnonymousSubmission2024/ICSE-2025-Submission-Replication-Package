{
 "cells": [
  {
   "cell_type": "code",
   "execution_count": 4,
   "metadata": {},
   "outputs": [
    {
     "name": "stdout",
     "output_type": "stream",
     "text": [
      "Index(['Order per task', 'Code snippet', 'Participant', 'Task',\n",
      "       'Participant/Task', 'Task Duration', 'Understand', 'Correntness',\n",
      "       'Level of investment', 'Direction', 'Rough Direction',\n",
      "       'Code Interaction', 'Vertical Selection Strategy',\n",
      "       'Horizontal Selection Strategy', 'Time', 'Start', 'Stop',\n",
      "       'Block Duration', '%(Block Duration)', 'Intent', 'Intent (updated)',\n",
      "       'Lines', 'Confidence', 'Comment for manual analysis', 'Random Set #'],\n",
      "      dtype='object')\n",
      "Index(['Order per task', 'snippet', 'pid', 'tid', 'Participant/Task',\n",
      "       'Task Duration', 'Understand', 'correctness', 'investment', 'Direction',\n",
      "       'direction', 'code_interaction', 'selection_strategy',\n",
      "       'Horizontal Selection Strategy', 'time', 'start_time', 'end_time',\n",
      "       'Block Duration', '%(Block Duration)', 'Intent', 'Intent (updated)',\n",
      "       'Lines', 'Confidence', 'Comment for manual analysis', 'Random Set #'],\n",
      "      dtype='object')\n"
     ]
    }
   ],
   "source": [
    "import pandas as pd\n",
    "\n",
    "df = pd.read_csv('../data/raw/manual pattern annotations.csv', index_col=0)\n",
    "print(df.columns)\n",
    "df.columns = [col.strip() for col in df.columns]\n",
    "df = df.rename({\n",
    "    'Participant': 'pid',\n",
    "    'Task': 'tid',\n",
    "    'Code snippet': 'snippet',\n",
    "    'Correntness': 'correctness',\n",
    "    'Level of investment': 'investment',\n",
    "    'Vertical Selection Strategy': 'selection_strategy',\n",
    "    'Rough Direction': 'direction',\n",
    "    'Time': 'time',\n",
    "    'Start': 'start_time',\n",
    "    'Stop': 'end_time',\n",
    "    'Code Interaction': 'code_interaction',\n",
    "    \n",
    "},\n",
    "          axis=1)\n",
    "\n",
    "#df['correctness'] = df['correctness'] > 0\n",
    "print(df.columns)\n",
    "# "
   ]
  },
  {
   "cell_type": "code",
   "execution_count": 8,
   "metadata": {},
   "outputs": [],
   "source": [
    "df = df[[\n",
    "    'snippet', 'pid', 'tid', 'correctness', 'investment', 'selection_strategy',\n",
    "    'direction', 'code_interaction', 'start_time', 'end_time'\n",
    "]].copy()\n",
    "\n",
    "\"\"\"\n",
    "print(df['investment'].unique())\n",
    "print(df['selection_strategy'].unique())\n",
    "print(df['direction'].unique())\n",
    "print(df['code_interaction'].unique())\n",
    "\n",
    "replacements = {\n",
    "    'back and forth, generally forward': 'forward',\n",
    "    'back and forth, generally backward': 'backward',\n",
    "}\n",
    "df = df.assign(direction=df['direction'].apply(lambda x: replacements.get(x, x)))\n",
    "\"\"\"\n",
    "# Replace invalid annotations\n",
    "valid_pattern_values = {\n",
    "    \"investment\": ['Medium' 'Quick' 'Indepth'],\n",
    "    \"selection_strategy\": ['No strategy' 'Dynamic' 'Linear'],\n",
    "    \"direction\": ['Backward' 'No direction' 'Forward' 'Back and forth'\n",
    "                  'Reverse the order of definition' 'In the order of definition'\n",
    "                  'Back and forth the order of denifition'],\n",
    "    \"code_interaction\": ['Intra procedure' 'Inter procedure'],\n",
    "}\n",
    "for col, valid_values in valid_pattern_values.items():\n",
    "    df = df.loc[df[col].isin(valid_values)]\n",
    "\n",
    "\n",
    "# df['pattern'] = list(\n",
    "#     map(\n",
    "#         tuple,\n",
    "#         zip(*(df[col]\n",
    "#             for col in ['investment', 'selection_strategy', 'direction']))))\n",
    "\n",
    "df['duration'] = df['end_time'] - df['start_time']\n",
    "df['pid'] = 'p' + df['pid'].astype(str)\n",
    "df['tid'] = 't' + df['tid'].astype(str)"
   ]
  },
  {
   "cell_type": "code",
   "execution_count": 10,
   "metadata": {},
   "outputs": [],
   "source": [
    "# df.to_parquet(\"../data/processed/manual_pattern_annotations.parq\")\n",
    "df.astype({\n",
    "    'snippet': 'category',\n",
    "    'investment': 'category',\n",
    "    'selection_strategy': 'category',\n",
    "    'direction': 'category',\n",
    "    # 'pattern': 'category'\n",
    "}).set_index(['pid', 'tid']).to_parquet(\"../data/processed/manual_pattern_annotations.parq\")\n",
    "# df.dtypes\n"
   ]
  },
  {
   "cell_type": "code",
   "execution_count": 13,
   "metadata": {},
   "outputs": [],
   "source": [
    "df['pattern'] = [\n",
    "    (a, b, c, d)\n",
    "    for a, b, c in zip(df['investment'], df['direction'], df['selection_strategy'], df['code_interaction'])\n",
    "] "
   ]
  },
  {
   "cell_type": "code",
   "execution_count": 15,
   "metadata": {},
   "outputs": [
    {
     "data": {
      "text/plain": [
       "<seaborn.axisgrid.FacetGrid at 0x1247c02b0>"
      ]
     },
     "execution_count": 15,
     "metadata": {},
     "output_type": "execute_result"
    }
   ],
   "source": [
    "\n",
    "import functools\n",
    "import numpy as np\n",
    "import seaborn as sns\n",
    "def find_most_frequent(df, k=0):\n",
    "    counts = df.value_counts()\n",
    "    return counts[k] if len(counts) - 1 >= k else np.nan\n",
    "\n",
    "\n",
    "freqs = df.groupby(['pid', 'tid'])['pattern'].agg(find_most_frequent).reset_index(name='top1')\n",
    "freqs['top2'] = df.groupby(['pid', 'tid'])['pattern'].agg(functools.partial(find_most_frequent, k=1)).reset_index(name='top2')['top2']\n",
    "freqs['delta'] = freqs['top1'] - freqs['top2']\n",
    "\n",
    "x = pd.melt(freqs, id_vars=['pid', 'tid'], value_vars=['top1', 'top2'])\n",
    "\n",
    "sns.displot(data=x, x='value', hue='variable', kind='kde')\n",
    "# sns.displot(data=freqs, x='top1', kind='kde')\n",
    "# sns.displot(data=freqs, x='top2', kind='kde')"
   ]
  },
  {
   "cell_type": "code",
   "execution_count": 16,
   "metadata": {},
   "outputs": [
    {
     "data": {
      "text/plain": [
       "<seaborn.axisgrid.FacetGrid at 0x12a16a0b0>"
      ]
     },
     "execution_count": 16,
     "metadata": {},
     "output_type": "execute_result"
    }
   ],
   "source": [
    "sns.displot(data=freqs, x='delta', )"
   ]
  },
  {
   "cell_type": "code",
   "execution_count": 17,
   "metadata": {},
   "outputs": [
    {
     "name": "stdout",
     "output_type": "stream",
     "text": [
      "0\n"
     ]
    },
    {
     "data": {
      "text/html": [
       "<div>\n",
       "<style scoped>\n",
       "    .dataframe tbody tr th:only-of-type {\n",
       "        vertical-align: middle;\n",
       "    }\n",
       "\n",
       "    .dataframe tbody tr th {\n",
       "        vertical-align: top;\n",
       "    }\n",
       "\n",
       "    .dataframe thead th {\n",
       "        text-align: right;\n",
       "    }\n",
       "</style>\n",
       "<table border=\"1\" class=\"dataframe\">\n",
       "  <thead>\n",
       "    <tr style=\"text-align: right;\">\n",
       "      <th></th>\n",
       "      <th>pid</th>\n",
       "      <th>tid</th>\n",
       "      <th>top1</th>\n",
       "      <th>top2</th>\n",
       "      <th>delta</th>\n",
       "    </tr>\n",
       "  </thead>\n",
       "  <tbody>\n",
       "  </tbody>\n",
       "</table>\n",
       "</div>"
      ],
      "text/plain": [
       "Empty DataFrame\n",
       "Columns: [pid, tid, top1, top2, delta]\n",
       "Index: []"
      ]
     },
     "execution_count": 17,
     "metadata": {},
     "output_type": "execute_result"
    }
   ],
   "source": [
    "d = freqs.query('delta == 1.0').sort_values(by=['top1', 'top2'])\n",
    "\n",
    "print(len(d))\n",
    "d"
   ]
  },
  {
   "cell_type": "code",
   "execution_count": 18,
   "metadata": {},
   "outputs": [
    {
     "name": "stderr",
     "output_type": "stream",
     "text": [
      "<ipython-input-18-fee48bcb2287>:13: FutureWarning: Not prepending group keys to the result index of transform-like apply. In the future, the group keys will be included in the index, regardless of whether the applied function returns a like-indexed object.\n",
      "To preserve the previous behavior, use\n",
      "\n",
      "\t>>> .groupby(..., group_keys=False)\n",
      "\n",
      "To adopt the future behavior and silence this warning, use \n",
      "\n",
      "\t>>> .groupby(..., group_keys=True)\n",
      "  'tid']).apply(lambda x: x.head(2)).reset_index(drop=True)\n"
     ]
    },
    {
     "data": {
      "text/html": [
       "<div>\n",
       "<style scoped>\n",
       "    .dataframe tbody tr th:only-of-type {\n",
       "        vertical-align: middle;\n",
       "    }\n",
       "\n",
       "    .dataframe tbody tr th {\n",
       "        vertical-align: top;\n",
       "    }\n",
       "\n",
       "    .dataframe thead th {\n",
       "        text-align: right;\n",
       "    }\n",
       "</style>\n",
       "<table border=\"1\" class=\"dataframe\">\n",
       "  <thead>\n",
       "    <tr style=\"text-align: right;\">\n",
       "      <th></th>\n",
       "      <th>pid</th>\n",
       "      <th>tid</th>\n",
       "      <th>delta</th>\n",
       "      <th>top1</th>\n",
       "      <th>top2</th>\n",
       "    </tr>\n",
       "  </thead>\n",
       "  <tbody>\n",
       "  </tbody>\n",
       "</table>\n",
       "</div>"
      ],
      "text/plain": [
       "Empty DataFrame\n",
       "Columns: [pid, tid, delta, top1, top2]\n",
       "Index: []"
      ]
     },
     "execution_count": 18,
     "metadata": {},
     "output_type": "execute_result"
    }
   ],
   "source": [
    "def find_most_frequent_duration(df, k=0):\n",
    "    if len(df) <= 1:\n",
    "        return np.nan\n",
    "    return df.iloc[0] - df.iloc[1]\n",
    "\n",
    "\n",
    "duration_sums = df.groupby(['pid', 'tid',\n",
    "                            'pattern'])['duration'].sum().reset_index()\n",
    "#\n",
    "freqs_duration = duration_sums.sort_values(\n",
    "    by=['duration', 'pid', 'tid'], ascending=False).groupby(\n",
    "        ['pid',\n",
    "         'tid']).apply(lambda x: x.head(2)).reset_index(drop=True)\n",
    "\n",
    "grouper = freqs_duration.groupby(['pid', 'tid'])\n",
    "\n",
    "# sns.displot(data=freqs_duration, x='delta')\n",
    "# duration_sums\n",
    "\n",
    "def topk(k):\n",
    "    def _inner(df):\n",
    "        try:\n",
    "            return df.iloc[k]\n",
    "        except:\n",
    "            return np.nan\n",
    "    return _inner\n",
    "\n",
    "freqs_duration = grouper['duration'].agg(find_most_frequent_duration).reset_index(name='delta')\n",
    "freqs_duration['top1'] = grouper['duration'].agg(topk(0)).reset_index(name='top1')['top1']\n",
    "freqs_duration['top2'] = grouper['duration'].agg(topk(1)).reset_index(name='top2')['top2']\n",
    "\n",
    "freqs_duration"
   ]
  },
  {
   "cell_type": "code",
   "execution_count": 153,
   "metadata": {},
   "outputs": [
    {
     "data": {
      "text/plain": [
       "<seaborn.axisgrid.FacetGrid at 0x2886adb10>"
      ]
     },
     "execution_count": 153,
     "metadata": {},
     "output_type": "execute_result"
    },
    {
     "data": {
      "image/png": "[encoded data removed]",
      "text/plain": [
       "<Figure size 581.75x500 with 1 Axes>"
      ]
     },
     "metadata": {},
     "output_type": "display_data"
    }
   ],
   "source": [
    "melted = pd.melt(freqs_duration, id_vars=['pid', 'tid'], value_vars=['top1', 'top2'])\n",
    "\n",
    "melted\n",
    "\n",
    "sns.displot(data=melted, x='value', hue='variable', kind='kde')"
   ]
  },
  {
   "cell_type": "code",
   "execution_count": 156,
   "metadata": {},
   "outputs": [
    {
     "data": {
      "text/plain": [
       "<seaborn.axisgrid.FacetGrid at 0x2877e9a50>"
      ]
     },
     "execution_count": 156,
     "metadata": {},
     "output_type": "execute_result"
    },
    {
     "data": {
      "image/png": "[encoded data removed]",
      "text/plain": [
       "<Figure size 500x500 with 1 Axes>"
      ]
     },
     "metadata": {},
     "output_type": "display_data"
    }
   ],
   "source": [
    "sns.displot(data=freqs_duration, x='delta', kind='kde')"
   ]
  },
  {
   "cell_type": "code",
   "execution_count": 165,
   "metadata": {},
   "outputs": [
    {
     "data": {
      "text/plain": [
       "count    80.000000\n",
       "mean      0.556000\n",
       "std       0.284571\n",
       "min       0.010676\n",
       "25%       0.293182\n",
       "50%       0.621591\n",
       "75%       0.833955\n",
       "max       0.963415\n",
       "Name: delta_pct, dtype: float64"
      ]
     },
     "execution_count": 165,
     "metadata": {},
     "output_type": "execute_result"
    }
   ],
   "source": [
    "freqs_duration['delta_pct'] = freqs_duration['delta'] / freqs_duration['top1']\n",
    "\n",
    "freqs_duration.sort_values(by='delta_pct')['delta_pct'].describe()"
   ]
  },
  {
   "cell_type": "code",
   "execution_count": 167,
   "metadata": {},
   "outputs": [
    {
     "data": {
      "text/plain": [
       "54"
      ]
     },
     "execution_count": 167,
     "metadata": {},
     "output_type": "execute_result"
    }
   ],
   "source": [
    "86-32\n"
   ]
  },
  {
   "cell_type": "code",
   "execution_count": 7,
   "metadata": {},
   "outputs": [
    {
     "data": {
      "text/plain": [
       "array(['no direction', 'forward', 'back and forth', '-', 'backward'],\n",
       "      dtype=object)"
      ]
     },
     "execution_count": 7,
     "metadata": {},
     "output_type": "execute_result"
    }
   ],
   "source": []
  }
 ],
 "metadata": {
  "kernelspec": {
   "display_name": ".venv",
   "language": "python",
   "name": "python3"
  },
  "language_info": {
   "codemirror_mode": {
    "name": "ipython",
    "version": 3
   },
   "file_extension": ".py",
   "mimetype": "text/x-python",
   "name": "python",
   "nbconvert_exporter": "python",
   "pygments_lexer": "ipython3",
   "version": "3.10.4"
  },
  "orig_nbformat": 4
 },
 "nbformat": 4,
 "nbformat_minor": 2
}
